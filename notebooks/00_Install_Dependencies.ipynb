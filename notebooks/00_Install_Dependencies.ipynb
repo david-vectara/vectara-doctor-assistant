{
 "cells": [
  {
   "cell_type": "code",
   "execution_count": 1,
   "id": "initial_id",
   "metadata": {
    "ExecuteTime": {
     "end_time": "2024-12-09T23:04:21.353487Z",
     "start_time": "2024-12-09T23:04:18.197156Z"
    }
   },
   "outputs": [
    {
     "name": "stdout",
     "output_type": "stream",
     "text": [
      "Requirement already satisfied: faker in c:\\dev\\tools\\python\\python312\\lib\\site-packages (33.1.0)\n",
      "Requirement already satisfied: vectara in c:\\dev\\tools\\python\\python312\\lib\\site-packages (0.2.35)\n",
      "Requirement already satisfied: numpy in c:\\dev\\tools\\python\\python312\\lib\\site-packages (2.0.1)\n",
      "Requirement already satisfied: llama-index in c:\\dev\\tools\\python\\python312\\lib\\site-packages (0.12.2)\n",
      "Requirement already satisfied: llama-index-agent-openai in c:\\dev\\tools\\python\\python312\\lib\\site-packages (0.4.0)\n",
      "Requirement already satisfied: llama-index-llms-openai in c:\\dev\\tools\\python\\python312\\lib\\site-packages (0.3.2)\n",
      "Requirement already satisfied: python-dateutil>=2.4 in c:\\dev\\tools\\python\\python312\\lib\\site-packages (from faker) (2.9.0.post0)\n",
      "Requirement already satisfied: typing-extensions in c:\\dev\\tools\\python\\python312\\lib\\site-packages (from faker) (4.12.2)\n",
      "Requirement already satisfied: PyYAML==6.0.2 in c:\\dev\\tools\\python\\python312\\lib\\site-packages (from vectara) (6.0.2)\n",
      "Requirement already satisfied: httpx>=0.21.2 in c:\\dev\\tools\\python\\python312\\lib\\site-packages (from vectara) (0.27.0)\n",
      "Requirement already satisfied: pydantic>=1.9.2 in c:\\dev\\tools\\python\\python312\\lib\\site-packages (from vectara) (2.8.2)\n",
      "Requirement already satisfied: pydantic-core<3.0.0,>=2.18.2 in c:\\dev\\tools\\python\\python312\\lib\\site-packages (from vectara) (2.20.1)\n",
      "Requirement already satisfied: llama-index-cli<0.5.0,>=0.4.0 in c:\\dev\\tools\\python\\python312\\lib\\site-packages (from llama-index) (0.4.0)\n",
      "Requirement already satisfied: llama-index-core<0.13.0,>=0.12.2 in c:\\dev\\tools\\python\\python312\\lib\\site-packages (from llama-index) (0.12.3)\n",
      "Requirement already satisfied: llama-index-embeddings-openai<0.4.0,>=0.3.0 in c:\\dev\\tools\\python\\python312\\lib\\site-packages (from llama-index) (0.3.1)\n",
      "Requirement already satisfied: llama-index-indices-managed-llama-cloud>=0.4.0 in c:\\dev\\tools\\python\\python312\\lib\\site-packages (from llama-index) (0.6.3)\n",
      "Requirement already satisfied: llama-index-legacy<0.10.0,>=0.9.48 in c:\\dev\\tools\\python\\python312\\lib\\site-packages (from llama-index) (0.9.48.post4)\n",
      "Requirement already satisfied: llama-index-multi-modal-llms-openai<0.4.0,>=0.3.0 in c:\\dev\\tools\\python\\python312\\lib\\site-packages (from llama-index) (0.3.0)\n",
      "Requirement already satisfied: llama-index-program-openai<0.4.0,>=0.3.0 in c:\\dev\\tools\\python\\python312\\lib\\site-packages (from llama-index) (0.3.1)\n",
      "Requirement already satisfied: llama-index-question-gen-openai<0.4.0,>=0.3.0 in c:\\dev\\tools\\python\\python312\\lib\\site-packages (from llama-index) (0.3.0)\n",
      "Requirement already satisfied: llama-index-readers-file<0.5.0,>=0.4.0 in c:\\dev\\tools\\python\\python312\\lib\\site-packages (from llama-index) (0.4.1)\n",
      "Requirement already satisfied: llama-index-readers-llama-parse>=0.4.0 in c:\\dev\\tools\\python\\python312\\lib\\site-packages (from llama-index) (0.4.0)\n",
      "Requirement already satisfied: nltk>3.8.1 in c:\\dev\\tools\\python\\python312\\lib\\site-packages (from llama-index) (3.9.1)\n",
      "Requirement already satisfied: openai>=1.14.0 in c:\\dev\\tools\\python\\python312\\lib\\site-packages (from llama-index-agent-openai) (1.57.0)\n",
      "Requirement already satisfied: anyio in c:\\dev\\tools\\python\\python312\\lib\\site-packages (from httpx>=0.21.2->vectara) (4.4.0)\n",
      "Requirement already satisfied: certifi in c:\\dev\\tools\\python\\python312\\lib\\site-packages (from httpx>=0.21.2->vectara) (2024.2.2)\n",
      "Requirement already satisfied: httpcore==1.* in c:\\dev\\tools\\python\\python312\\lib\\site-packages (from httpx>=0.21.2->vectara) (1.0.5)\n",
      "Requirement already satisfied: idna in c:\\dev\\tools\\python\\python312\\lib\\site-packages (from httpx>=0.21.2->vectara) (3.7)\n",
      "Requirement already satisfied: sniffio in c:\\dev\\tools\\python\\python312\\lib\\site-packages (from httpx>=0.21.2->vectara) (1.3.1)\n",
      "Requirement already satisfied: h11<0.15,>=0.13 in c:\\dev\\tools\\python\\python312\\lib\\site-packages (from httpcore==1.*->httpx>=0.21.2->vectara) (0.14.0)\n",
      "Requirement already satisfied: SQLAlchemy>=1.4.49 in c:\\dev\\tools\\python\\python312\\lib\\site-packages (from SQLAlchemy[asyncio]>=1.4.49->llama-index-core<0.13.0,>=0.12.2->llama-index) (2.0.36)\n",
      "Requirement already satisfied: aiohttp<4.0.0,>=3.8.6 in c:\\dev\\tools\\python\\python312\\lib\\site-packages (from llama-index-core<0.13.0,>=0.12.2->llama-index) (3.11.10)\n",
      "Requirement already satisfied: dataclasses-json in c:\\dev\\tools\\python\\python312\\lib\\site-packages (from llama-index-core<0.13.0,>=0.12.2->llama-index) (0.6.7)\n",
      "Requirement already satisfied: deprecated>=1.2.9.3 in c:\\dev\\tools\\python\\python312\\lib\\site-packages (from llama-index-core<0.13.0,>=0.12.2->llama-index) (1.2.15)\n",
      "Requirement already satisfied: dirtyjson<2.0.0,>=1.0.8 in c:\\dev\\tools\\python\\python312\\lib\\site-packages (from llama-index-core<0.13.0,>=0.12.2->llama-index) (1.0.8)\n",
      "Requirement already satisfied: filetype<2.0.0,>=1.2.0 in c:\\dev\\tools\\python\\python312\\lib\\site-packages (from llama-index-core<0.13.0,>=0.12.2->llama-index) (1.2.0)\n",
      "Requirement already satisfied: fsspec>=2023.5.0 in c:\\dev\\tools\\python\\python312\\lib\\site-packages (from llama-index-core<0.13.0,>=0.12.2->llama-index) (2024.10.0)\n",
      "Requirement already satisfied: nest-asyncio<2.0.0,>=1.5.8 in c:\\dev\\tools\\python\\python312\\lib\\site-packages (from llama-index-core<0.13.0,>=0.12.2->llama-index) (1.6.0)\n",
      "Requirement already satisfied: networkx>=3.0 in c:\\dev\\tools\\python\\python312\\lib\\site-packages (from llama-index-core<0.13.0,>=0.12.2->llama-index) (3.3)\n",
      "Requirement already satisfied: pillow>=9.0.0 in c:\\dev\\tools\\python\\python312\\lib\\site-packages (from llama-index-core<0.13.0,>=0.12.2->llama-index) (10.4.0)\n",
      "Requirement already satisfied: requests>=2.31.0 in c:\\dev\\tools\\python\\python312\\lib\\site-packages (from llama-index-core<0.13.0,>=0.12.2->llama-index) (2.31.0)\n",
      "Requirement already satisfied: tenacity!=8.4.0,<9.0.0,>=8.2.0 in c:\\dev\\tools\\python\\python312\\lib\\site-packages (from llama-index-core<0.13.0,>=0.12.2->llama-index) (8.5.0)\n",
      "Requirement already satisfied: tiktoken>=0.3.3 in c:\\dev\\tools\\python\\python312\\lib\\site-packages (from llama-index-core<0.13.0,>=0.12.2->llama-index) (0.8.0)\n",
      "Requirement already satisfied: tqdm<5.0.0,>=4.66.1 in c:\\dev\\tools\\python\\python312\\lib\\site-packages (from llama-index-core<0.13.0,>=0.12.2->llama-index) (4.66.1)\n",
      "Requirement already satisfied: typing-inspect>=0.8.0 in c:\\dev\\tools\\python\\python312\\lib\\site-packages (from llama-index-core<0.13.0,>=0.12.2->llama-index) (0.9.0)\n",
      "Requirement already satisfied: wrapt in c:\\dev\\tools\\python\\python312\\lib\\site-packages (from llama-index-core<0.13.0,>=0.12.2->llama-index) (1.17.0)\n",
      "Requirement already satisfied: llama-cloud>=0.1.5 in c:\\dev\\tools\\python\\python312\\lib\\site-packages (from llama-index-indices-managed-llama-cloud>=0.4.0->llama-index) (0.1.6)\n",
      "Requirement already satisfied: pandas in c:\\dev\\tools\\python\\python312\\lib\\site-packages (from llama-index-legacy<0.10.0,>=0.9.48->llama-index) (2.2.2)\n",
      "Requirement already satisfied: beautifulsoup4<5.0.0,>=4.12.3 in c:\\dev\\tools\\python\\python312\\lib\\site-packages (from llama-index-readers-file<0.5.0,>=0.4.0->llama-index) (4.12.3)\n",
      "Requirement already satisfied: pypdf<6.0.0,>=5.1.0 in c:\\dev\\tools\\python\\python312\\lib\\site-packages (from llama-index-readers-file<0.5.0,>=0.4.0->llama-index) (5.1.0)\n",
      "Requirement already satisfied: striprtf<0.0.27,>=0.0.26 in c:\\dev\\tools\\python\\python312\\lib\\site-packages (from llama-index-readers-file<0.5.0,>=0.4.0->llama-index) (0.0.26)\n",
      "Requirement already satisfied: llama-parse>=0.5.0 in c:\\dev\\tools\\python\\python312\\lib\\site-packages (from llama-index-readers-llama-parse>=0.4.0->llama-index) (0.5.16)\n",
      "Requirement already satisfied: click in c:\\dev\\tools\\python\\python312\\lib\\site-packages (from nltk>3.8.1->llama-index) (8.1.7)\n",
      "Requirement already satisfied: joblib in c:\\dev\\tools\\python\\python312\\lib\\site-packages (from nltk>3.8.1->llama-index) (1.1.1)\n",
      "Requirement already satisfied: regex>=2021.8.3 in c:\\dev\\tools\\python\\python312\\lib\\site-packages (from nltk>3.8.1->llama-index) (2024.11.6)\n",
      "Requirement already satisfied: distro<2,>=1.7.0 in c:\\dev\\tools\\python\\python312\\lib\\site-packages (from openai>=1.14.0->llama-index-agent-openai) (1.9.0)\n",
      "Requirement already satisfied: jiter<1,>=0.4.0 in c:\\dev\\tools\\python\\python312\\lib\\site-packages (from openai>=1.14.0->llama-index-agent-openai) (0.8.0)\n",
      "Requirement already satisfied: annotated-types>=0.4.0 in c:\\dev\\tools\\python\\python312\\lib\\site-packages (from pydantic>=1.9.2->vectara) (0.7.0)\n",
      "Requirement already satisfied: six>=1.5 in c:\\dev\\tools\\python\\python312\\lib\\site-packages (from python-dateutil>=2.4->faker) (1.16.0)\n",
      "Requirement already satisfied: aiohappyeyeballs>=2.3.0 in c:\\dev\\tools\\python\\python312\\lib\\site-packages (from aiohttp<4.0.0,>=3.8.6->llama-index-core<0.13.0,>=0.12.2->llama-index) (2.4.4)\n",
      "Requirement already satisfied: aiosignal>=1.1.2 in c:\\dev\\tools\\python\\python312\\lib\\site-packages (from aiohttp<4.0.0,>=3.8.6->llama-index-core<0.13.0,>=0.12.2->llama-index) (1.3.1)\n",
      "Requirement already satisfied: attrs>=17.3.0 in c:\\dev\\tools\\python\\python312\\lib\\site-packages (from aiohttp<4.0.0,>=3.8.6->llama-index-core<0.13.0,>=0.12.2->llama-index) (24.2.0)\n",
      "Requirement already satisfied: frozenlist>=1.1.1 in c:\\dev\\tools\\python\\python312\\lib\\site-packages (from aiohttp<4.0.0,>=3.8.6->llama-index-core<0.13.0,>=0.12.2->llama-index) (1.5.0)\n",
      "Requirement already satisfied: multidict<7.0,>=4.5 in c:\\dev\\tools\\python\\python312\\lib\\site-packages (from aiohttp<4.0.0,>=3.8.6->llama-index-core<0.13.0,>=0.12.2->llama-index) (6.1.0)\n",
      "Requirement already satisfied: propcache>=0.2.0 in c:\\dev\\tools\\python\\python312\\lib\\site-packages (from aiohttp<4.0.0,>=3.8.6->llama-index-core<0.13.0,>=0.12.2->llama-index) (0.2.1)\n",
      "Requirement already satisfied: yarl<2.0,>=1.17.0 in c:\\dev\\tools\\python\\python312\\lib\\site-packages (from aiohttp<4.0.0,>=3.8.6->llama-index-core<0.13.0,>=0.12.2->llama-index) (1.18.3)\n",
      "Requirement already satisfied: soupsieve>1.2 in c:\\dev\\tools\\python\\python312\\lib\\site-packages (from beautifulsoup4<5.0.0,>=4.12.3->llama-index-readers-file<0.5.0,>=0.4.0->llama-index) (2.5)\n",
      "Requirement already satisfied: colorama in c:\\dev\\tools\\python\\python312\\lib\\site-packages (from click->nltk>3.8.1->llama-index) (0.4.6)\n",
      "Requirement already satisfied: charset-normalizer<4,>=2 in c:\\dev\\tools\\python\\python312\\lib\\site-packages (from requests>=2.31.0->llama-index-core<0.13.0,>=0.12.2->llama-index) (3.3.2)\n",
      "Requirement already satisfied: urllib3<3,>=1.21.1 in c:\\dev\\tools\\python\\python312\\lib\\site-packages (from requests>=2.31.0->llama-index-core<0.13.0,>=0.12.2->llama-index) (2.2.1)\n",
      "Requirement already satisfied: greenlet!=0.4.17 in c:\\dev\\tools\\python\\python312\\lib\\site-packages (from SQLAlchemy>=1.4.49->SQLAlchemy[asyncio]>=1.4.49->llama-index-core<0.13.0,>=0.12.2->llama-index) (3.1.1)\n",
      "Requirement already satisfied: mypy-extensions>=0.3.0 in c:\\dev\\tools\\python\\python312\\lib\\site-packages (from typing-inspect>=0.8.0->llama-index-core<0.13.0,>=0.12.2->llama-index) (1.0.0)\n",
      "Requirement already satisfied: marshmallow<4.0.0,>=3.18.0 in c:\\dev\\tools\\python\\python312\\lib\\site-packages (from dataclasses-json->llama-index-core<0.13.0,>=0.12.2->llama-index) (3.23.1)\n",
      "Requirement already satisfied: pytz>=2020.1 in c:\\dev\\tools\\python\\python312\\lib\\site-packages (from pandas->llama-index-legacy<0.10.0,>=0.9.48->llama-index) (2024.1)\n",
      "Requirement already satisfied: tzdata>=2022.7 in c:\\dev\\tools\\python\\python312\\lib\\site-packages (from pandas->llama-index-legacy<0.10.0,>=0.9.48->llama-index) (2024.1)\n",
      "Requirement already satisfied: packaging>=17.0 in c:\\dev\\tools\\python\\python312\\lib\\site-packages (from marshmallow<4.0.0,>=3.18.0->dataclasses-json->llama-index-core<0.13.0,>=0.12.2->llama-index) (24.1)\n"
     ]
    },
    {
     "name": "stderr",
     "output_type": "stream",
     "text": [
      "\n",
      "[notice] A new release of pip is available: 24.2 -> 24.3.1\n",
      "[notice] To update, run: python.exe -m pip install --upgrade pip\n"
     ]
    }
   ],
   "source": [
    "!pip install faker vectara numpy llama-index llama-index-agent-openai llama-index-llms-openai"
   ]
  },
  {
   "cell_type": "code",
   "execution_count": null,
   "id": "d0e40e122fc25c7b",
   "metadata": {
    "collapsed": false,
    "jupyter": {
     "outputs_hidden": false
    }
   },
   "outputs": [],
   "source": []
  }
 ],
 "metadata": {
  "kernelspec": {
   "display_name": "Python 3 (ipykernel)",
   "language": "python",
   "name": "python3"
  },
  "language_info": {
   "codemirror_mode": {
    "name": "ipython",
    "version": 3
   },
   "file_extension": ".py",
   "mimetype": "text/x-python",
   "name": "python",
   "nbconvert_exporter": "python",
   "pygments_lexer": "ipython3",
   "version": "3.12.1"
  }
 },
 "nbformat": 4,
 "nbformat_minor": 5
}
