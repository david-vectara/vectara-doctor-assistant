{
 "cells": [
  {
   "cell_type": "markdown",
   "source": [
    "# Create Synthetic Data\n",
    "In order to create a good Agentic Demo, we need datasets that are related. We have chosen to\n",
    "build out a chatbot that uses PII data - so for a demo this needs to be Synthetic.\n",
    "\n",
    "\n",
    "> If you wish to make an apple pie from scratch you must first invent the universe\n",
    ">       Carl Sagan\n",
    "\n",
    "<img src=\"images/carl-apple-galaxies.png\" width=\"600\" />\n",
    "\n",
    "\n",
    "# Domain Model\n",
    "We will build a domain model as follows:\n",
    "\n",
    "1. **Patients**: This will be entirely synthetic data (random patient ID, random names, DOB etc)\n",
    "2. **Medications**: From our Consumer Medicine Information downloaded from the TGA, we will load these and use RAG to answer various questions:\n",
    "    1. What is the medicine name\n",
    "    2. What ailments is the medicine prescribed to treat\n",
    "3. **Patient-Ailments**: For each patient, we will create a link between the patient and the ailment\n",
    "        "
   ],
   "metadata": {
    "collapsed": false
   },
   "id": "8a600eff9843ee08"
  },
  {
   "cell_type": "code",
   "outputs": [
    {
     "name": "stdout",
     "output_type": "stream",
     "text": [
      "Created [{'first_name': 'Lauren', 'last_name': 'Lee', 'sex': 'F', 'dob': '1982-00-01', 'address': 'PSC 7083, Box 9347\\nAPO AP 28337'}]\n",
      "Created [{'first_name': 'Erin', 'last_name': 'Kim', 'sex': 'F', 'dob': '1943-00-06', 'address': '8537 Allen Turnpike\\nHendersonland, NE 61805'}]\n",
      "Created [{'first_name': 'Eric', 'last_name': 'Rodriguez', 'sex': 'M', 'dob': '2021-00-02', 'address': '466 Rodney Lodge Suite 073\\nWest Laurastad, VT 47636'}]\n",
      "Created [{'first_name': 'Adam', 'last_name': 'Elliott', 'sex': 'M', 'dob': '1929-00-24', 'address': 'Unit 6241 Box 2659\\nDPO AA 22302'}]\n",
      "Created [{'first_name': 'Kathleen', 'last_name': 'Liu', 'sex': 'F', 'dob': '1951-00-23', 'address': '801 Antonio Key\\nRobersonville, TX 93001'}]\n",
      "Created [{'first_name': 'Lisa', 'last_name': 'Jacobs', 'sex': 'F', 'dob': '1971-00-19', 'address': '238 Hester Dam\\nEast Nicolemouth, MS 09355'}]\n",
      "Created [{'first_name': 'Anthony', 'last_name': 'Pierce', 'sex': 'M', 'dob': '1956-00-17', 'address': '5142 Owens Manors\\nNew Tinamouth, IA 13034'}]\n",
      "Created [{'first_name': 'Diana', 'last_name': 'Rowland', 'sex': 'F', 'dob': '1932-00-25', 'address': '790 Allen Groves Suite 389\\nMatthewberg, LA 45792'}]\n",
      "Created [{'first_name': 'Meghan', 'last_name': 'Shannon', 'sex': 'F', 'dob': '1963-00-28', 'address': '132 Dustin Crossing\\nAndrewborough, TX 88487'}]\n",
      "Created [{'first_name': 'Michael', 'last_name': 'Diaz', 'sex': 'M', 'dob': '1999-00-27', 'address': '78854 Navarro Garden\\nHarrisport, WV 05810'}]\n"
     ]
    }
   ],
   "source": [
    "from faker import Faker\n",
    "from datetime import datetime\n",
    "import numpy as np\n",
    "\n",
    "class PersonGenerator:\n",
    "    \n",
    "    def __init__(self):\n",
    "        Faker.seed(101)\n",
    "        np.random.seed(101)\n",
    "        self.fake = Faker()\n",
    "    \n",
    "    def create_person(self):\n",
    "        result = {}\n",
    "        sex = np.random.choice([\"M\", \"F\"], p=[0.5,0.5])\n",
    "        \n",
    "        result[\"first_name\"] = self.fake.first_name_male() if sex==\"M\" else self.fake.first_name_female()\n",
    "        result[\"last_name\"] = self.fake.last_name()\n",
    "        result[\"sex\"] = str(sex)\n",
    "        result[\"dob\"] = datetime.strftime(self.fake.date_of_birth(), \"%Y-%M-%d\")\n",
    "        result[\"address\"] = self.fake.address()\n",
    "        \n",
    "        return result\n",
    "\n",
    "\n",
    "person_gen = PersonGenerator()\n",
    "\n",
    "patients = []\n",
    "\n",
    "for i in range(0,10):\n",
    "    person = person_gen.create_person()\n",
    "    print(f\"Created [{person}]\")\n",
    "    patients.append(person)"
   ],
   "metadata": {
    "collapsed": false,
    "ExecuteTime": {
     "end_time": "2024-12-09T23:04:34.278213Z",
     "start_time": "2024-12-09T23:04:34.031390Z"
    }
   },
   "id": "9c45fa9e6bce4cee",
   "execution_count": 1
  },
  {
   "cell_type": "markdown",
   "source": [
    "# Load Consumer Medicine Information\n",
    "In order to build a robust set to data for our chatbot, of PII \"synthetic\" data, we'll use the TGA Consumer Medicine Information.\n",
    "\n",
    "Before we can do anything else, we create our \"Corpus\". A corpus is where you might put a set of related documents that will help you answer queries. More information about a Vectara Corpus can be found in the [documentation](https://docs.vectara.com/docs/api-reference/admin-apis/admin).\n",
    "\n"
   ],
   "metadata": {
    "collapsed": false
   },
   "id": "3bcf2e57836ad154"
  },
  {
   "cell_type": "code",
   "outputs": [
    {
     "name": "stderr",
     "output_type": "stream",
     "text": [
      "10:04:40 +1100:Factory                             INFO:initializing builder\n",
      "10:04:40 +1100:Factory                             INFO:Factory will load configuration from home directory\n",
      "10:04:40 +1100:HomeConfigLoader                    INFO:Loading configuration from users home directory [C:\\Users\\david]\n",
      "10:04:40 +1100:HomeConfigLoader                    INFO:Loading specified profile [default]\n",
      "10:04:40 +1100:root                                INFO:We are processing authentication type [OAuth2]\n",
      "10:04:40 +1100:LabHelper                           INFO:Found username from environment [david]\n",
      "10:04:40 +1100:LabHelper                           INFO:Converted username is [david]\n",
      "10:04:40 +1100:LabHelper                           INFO:Lab corpus name will be [david - Consumer Medicine Information]\n",
      "10:04:40 +1100:LabHelper                           INFO:Lab corpus key will be [david_consumer_medicine_information]\n",
      "10:04:40 +1100:LabHelper                           INFO:Creating lab corpus\n",
      "10:04:40 +1100:CorpusManager                       INFO:Performing account checks before corpus creation for name [david - Consumer Medicine Information]\n",
      "10:04:42 +1100:httpx                               INFO:HTTP Request: POST https://auth.vectara.io/oauth2/token \"HTTP/1.1 200 OK\"\n",
      "10:04:43 +1100:httpx                               INFO:HTTP Request: GET https://api.vectara.io/v2/corpora/david_consumer_medicine_information \"HTTP/1.1 200 OK\"\n",
      "10:04:43 +1100:CorpusManager                       INFO:We found existing corpus with key [david_consumer_medicine_information]\n",
      "10:04:44 +1100:httpx                               INFO:HTTP Request: DELETE https://api.vectara.io/v2/corpora/david_consumer_medicine_information \"HTTP/1.1 204 No Content\"\n",
      "10:04:44 +1100:CorpusManager                       INFO:Account checks complete, creating the new corpus\n",
      "10:04:46 +1100:httpx                               INFO:HTTP Request: POST https://api.vectara.io/v2/corpora \"HTTP/1.1 201 Created\"\n"
     ]
    }
   ],
   "source": [
    "from vectara.factory import Factory\n",
    "from vectara.managers import CreateCorpusRequest \n",
    "import logging\n",
    "\n",
    "logging.basicConfig(format='%(asctime)s:%(name)-35s %(levelname)s:%(message)s', level=logging.INFO, datefmt='%H:%M:%S %z')\n",
    "logger = logging.getLogger(\"cell\")\n",
    "\n",
    "\n",
    "client = Factory().build()\n",
    "create_corpus_request = CreateCorpusRequest().model_validate({\n",
    "    \"name\": \"Consumer Medicine Information\",\n",
    "    \"description\": \"Information provided by the Australian TGA for prescribed medicines\",\n",
    "    \"filter_attributes\": [\n",
    "        {\n",
    "            \"name\": \"name\",\n",
    "            \"type\": \"text\",\n",
    "            \"level\": \"document\",\n",
    "            \"indexed\": True\n",
    "        }\n",
    "    ]})\n",
    "corpus = client.lab_helper.create_lab_corpus(create_corpus_request)\n",
    "corpus_key = corpus.key\n",
    "\n"
   ],
   "metadata": {
    "collapsed": false,
    "ExecuteTime": {
     "end_time": "2024-12-09T23:04:46.330241Z",
     "start_time": "2024-12-09T23:04:39.421195Z"
    }
   },
   "id": "b53c1f7b3a10683c",
   "execution_count": 2
  },
  {
   "cell_type": "markdown",
   "source": [
    "## Ingest TGA Data to Vectara Corpus\n",
    "\n",
    "Now that we have our corpus with modelling applied, we can load this data into Vectara. Vectara automatically:\n",
    "\n",
    "1. Parses the PDFs and extracts tables\n",
    "2. Chunks the text into appropriate semantic chunks\n",
    "3. Converts the chunks into embeddings\n",
    "4. Stores the embedding in our Vector Index along with index metadata (filter attributes) for efficient querying."
   ],
   "metadata": {
    "collapsed": false
   },
   "id": "b0038c93410c5a9f"
  },
  {
   "cell_type": "code",
   "outputs": [
    {
     "name": "stderr",
     "output_type": "stream",
     "text": [
      "10:05:00 +1100:httpx                               INFO:HTTP Request: POST https://api.vectara.io/v2/corpora/david_consumer_medicine_information/upload_file \"HTTP/1.1 201 Created\"\n",
      "10:05:06 +1100:httpx                               INFO:HTTP Request: POST https://api.vectara.io/v2/corpora/david_consumer_medicine_information/upload_file \"HTTP/1.1 201 Created\"\n",
      "10:05:11 +1100:httpx                               INFO:HTTP Request: POST https://api.vectara.io/v2/corpora/david_consumer_medicine_information/upload_file \"HTTP/1.1 201 Created\"\n"
     ]
    }
   ],
   "source": [
    "from pathlib import Path\n",
    "\n",
    "medicine_names = []\n",
    "\n",
    "for medicine_path in Path(\"../resources/tga\").glob(\"*.pdf\"):\n",
    "    # Make sure to \"lower\" the medicine name as metadata attributes are case sensitive.\n",
    "    medicine_name = medicine_path.name[0:-4].lower()\n",
    "    medicine_names.append(medicine_name)\n",
    "    client.upload_manager.upload(corpus_key, medicine_path, metadata={\"name\": medicine_name})"
   ],
   "metadata": {
    "collapsed": false,
    "ExecuteTime": {
     "end_time": "2024-12-09T23:05:11.776257Z",
     "start_time": "2024-12-09T23:04:54.687609Z"
    }
   },
   "id": "aa7750b392d73a7e",
   "execution_count": 4
  },
  {
   "cell_type": "code",
   "outputs": [
    {
     "name": "stderr",
     "output_type": "stream",
     "text": [
      "C:\\Users\\david\\AppData\\Local\\Temp\\ipykernel_13560\\1771166572.py:18: PydanticDeprecatedSince20: The `parse_obj` method is deprecated; use `model_validate` instead. Deprecated in Pydantic V2.0 to be removed in V3.0. See Pydantic V2 Migration Guide at https://errors.pydantic.dev/2.10/migration/\n",
      "  generation = GenerationParameters.parse_obj({\n",
      "C:\\Users\\david\\AppData\\Local\\Temp\\ipykernel_13560\\1771166572.py:26: PydanticDeprecatedSince20: The `parse_obj` method is deprecated; use `model_validate` instead. Deprecated in Pydantic V2.0 to be removed in V3.0. See Pydantic V2 Migration Guide at https://errors.pydantic.dev/2.10/migration/\n",
      "  search_corpus = SearchCorpusParameters.parse_obj({\n",
      "10:05:18 +1100:httpx                               INFO:HTTP Request: POST https://api.vectara.io/v2/corpora/david_consumer_medicine_information/query \"HTTP/1.1 200 OK\"\n",
      "10:05:25 +1100:httpx                               INFO:HTTP Request: POST https://api.vectara.io/v2/corpora/david_consumer_medicine_information/query \"HTTP/1.1 200 OK\"\n",
      "10:05:31 +1100:httpx                               INFO:HTTP Request: POST https://api.vectara.io/v2/corpora/david_consumer_medicine_information/query \"HTTP/1.1 200 OK\"\n"
     ]
    },
    {
     "name": "stdout",
     "output_type": "stream",
     "text": [
      "For ailment [high cholesterol levels], you can take [['atorvachol', 'lipitor']]\n",
      "For ailment [high blood pressure], you can take [['atorvachol', 'lipitor', 'mersyndol']]\n",
      "For ailment [coronary heart disease], you can take [['atorvachol', 'lipitor']]\n",
      "For ailment [risk of heart attack], you can take [['atorvachol', 'lipitor']]\n",
      "For ailment [risk of stroke], you can take [['atorvachol', 'lipitor']]\n",
      "For ailment [high triglycerides], you can take [['atorvachol']]\n",
      "For ailment [high triglyceride levels], you can take [['lipitor']]\n",
      "For ailment [moderate pain], you can take [['mersyndol']]\n",
      "For ailment [fever], you can take [['mersyndol']]\n",
      "For ailment [anxiety], you can take [['mersyndol']]\n",
      "For ailment [nerves], you can take [['mersyndol']]\n",
      "For ailment [depression], you can take [['mersyndol']]\n",
      "For ailment [epilepsy], you can take [['mersyndol']]\n",
      "For ailment [nausea and vomiting], you can take [['mersyndol']]\n",
      "For ailment [stomach ulcers], you can take [['mersyndol']]\n",
      "For ailment [ear infections], you can take [['mersyndol']]\n",
      "For ailment [eye infections], you can take [['mersyndol']]\n",
      "For ailment [mental illnesses], you can take [['mersyndol']]\n",
      "For ailment [alcohol dependence], you can take [['mersyndol']]\n",
      "For ailment [opioid dependence], you can take [['mersyndol']]\n"
     ]
    }
   ],
   "source": [
    "from vectara.corpora.types import SearchCorpusParameters\n",
    "from vectara.types import GenerationParameters \n",
    "\n",
    "import json\n",
    "import re\n",
    "\n",
    "prompt_text = \"\"\"\n",
    "[\n",
    "  {\"role\": \"system\", \"content\": \"You are a doctor who is providing advice to patients at the end of their clinical visits.\"},\n",
    "  #foreach ($qResult in $vectaraQueryResults)\n",
    "     {\"role\": \"user\", \"content\": \"Give me the $vectaraIdxWord[$foreach.index] search result.\"},\n",
    "     {\"role\": \"assistant\", \"content\": \"${qResult.getText()}\" },\n",
    "  #end\n",
    "  {\"role\": \"user\", \"content\": \"Generate an answer for the query '${vectaraQuery}' based on the above results in JSON an attribute 'ailments' that has a list of ailment names.\"}\n",
    "]\n",
    "    \"\"\"\n",
    "\n",
    "generation = GenerationParameters.parse_obj({\n",
    "    \"generation_preset_name\": \"vectara-summary-ext-v1.3.0\",\n",
    "    \"max_used_search_results\": 5,\n",
    "    \"max_response_characters\": 300,\n",
    "    \"response_language\": \"auto\",\n",
    "    \"prompt_text\": prompt_text\n",
    "})\n",
    "\n",
    "search_corpus = SearchCorpusParameters.parse_obj({\n",
    "    \"lexical_interpolation\": 0.025,\n",
    "    \"semantics\": \"default\",\n",
    "    \"offset\": 0,\n",
    "    \"limit\": 10,\n",
    "    \"reranker\": {\n",
    "        \"type\": \"customer_reranker\",\n",
    "        \"reranker_id\": \"rnk_272725719\"\n",
    "    },\n",
    "    \"context_configuration\": {\n",
    "        \"characters_before\": 30,\n",
    "        \"characters_after\": 30,\n",
    "        \"start_tag\": \"<b>\",\n",
    "        \"end_tag\": \"</b>\"\n",
    "    },\n",
    "})\n",
    "\n",
    "medicines = []\n",
    "ailment_medicine_map = {}\n",
    "\n",
    "for medicine_name in medicine_names:\n",
    "    query = f\"List the ailments is the medicine {medicine_name} used to treat?\"\n",
    "    query_response = client.corpora.query(corpus_key, query=query, search=search_corpus, generation=generation)\n",
    "    #print(f\"For {medicine_name}, we found the following ailments:\\n{query_response.summary}\")\n",
    "    \n",
    "    ailments = json.loads(query_response.summary)[\"ailments\"]\n",
    "    medicine = {\"name\": medicine_name, \"ailments\": ailments}\n",
    "    medicines.append(medicine)\n",
    "    \n",
    "    # Ensure we have a link to medicines which can treat different ailments\n",
    "    for ailment in ailments:\n",
    "        \n",
    "        # Remove any acronyms in brackets, make lower case\n",
    "        ailment = re.sub(r\"\\([^\\)]+\\)\",\"\", ailment).lower()\n",
    "        ailment = re.sub(r\" +\",\" \", ailment).strip()\n",
    "        \n",
    "        if ailment in ailment_medicine_map:\n",
    "                ailment_medicine = ailment_medicine_map[ailment]\n",
    "        else:\n",
    "                ailment_medicine = {\"name\": ailment, \"medicines\": []}\n",
    "                ailment_medicine_map[ailment] = ailment_medicine \n",
    "        ailment_medicine[\"medicines\"].append(medicine_name)\n",
    "        \n",
    "\n",
    "for ailment in ailment_medicine_map.keys():\n",
    "    ailment_medicine = ailment_medicine_map[ailment]\n",
    "    \n",
    "    available_medicines = ailment_medicine[\"medicines\"]\n",
    "    print(f\"For ailment [{ailment}], you can take [{available_medicines}]\")\n",
    "    \n",
    "    "
   ],
   "metadata": {
    "collapsed": false,
    "ExecuteTime": {
     "end_time": "2024-12-09T23:05:31.840450Z",
     "start_time": "2024-12-09T23:05:15.549315Z"
    }
   },
   "id": "6e36ae51857e1111",
   "execution_count": 5
  },
  {
   "cell_type": "code",
   "outputs": [],
   "source": [
    "from pathlib import Path\n",
    "import sqlite3\n",
    "\n",
    "output_dir = Path(\"../output\")\n",
    "output_dir.mkdir(exist_ok=True)\n",
    "\n",
    "db_file = output_dir / \"patient.db\"\n",
    "db_file.unlink()\n",
    "con = sqlite3.connect(db_file)\n",
    "\n",
    "cur = con.cursor()\n",
    "cur.execute(\"DROP TABLE IF EXISTS patient\")\n",
    "con.commit()\n",
    "cur.execute(\"CREATE TABLE patient(id, first_name, last_name, sex, dob, address)\")\n",
    "con.commit()\n",
    "cur.execute(\"CREATE TABLE patient_ailments(patient_id, ailment, medicine)\")\n",
    "con.commit()\n"
   ],
   "metadata": {
    "collapsed": false,
    "ExecuteTime": {
     "end_time": "2024-12-09T23:06:25.834754Z",
     "start_time": "2024-12-09T23:06:25.820765Z"
    }
   },
   "id": "c82b54d53540febb",
   "execution_count": 6
  },
  {
   "cell_type": "code",
   "outputs": [],
   "source": [
    "for idx, patient in enumerate(patients):\n",
    "    cur.execute(f\"INSERT INTO patient VALUES ({idx}, '{patient[\"first_name\"]}', '{patient[\"last_name\"]}', '{patient[\"sex\"]}', '{patient[\"dob\"]}', '{patient[\"address\"]}')\")\n",
    "\n"
   ],
   "metadata": {
    "collapsed": false,
    "ExecuteTime": {
     "end_time": "2024-12-09T23:06:29.314207Z",
     "start_time": "2024-12-09T23:06:29.307561Z"
    }
   },
   "id": "f933f1abe3399110",
   "execution_count": 7
  },
  {
   "cell_type": "markdown",
   "source": [
    "# Populate Ailments with Prescription \n",
    "Now for each patient, we give them an ailment and prescription."
   ],
   "metadata": {
    "collapsed": false
   },
   "id": "67666071c13da13a"
  },
  {
   "cell_type": "code",
   "outputs": [
    {
     "name": "stdout",
     "output_type": "stream",
     "text": [
      "For patient Lauren, for ailment [depression] we have prescribed them [mersyndol]\n",
      "For patient Lauren, for ailment [mental illnesses] we have prescribed them [mersyndol]\n",
      "For patient Lauren, for ailment [high triglyceride levels] we have prescribed them [lipitor]\n",
      "For patient Erin, for ailment [anxiety] we have prescribed them [mersyndol]\n",
      "For patient Erin, for ailment [nausea and vomiting] we have prescribed them [mersyndol]\n",
      "For patient Erin, for ailment [fever] we have prescribed them [mersyndol]\n",
      "For patient Erin, for ailment [risk of stroke] we have prescribed them [lipitor]\n",
      "For patient Eric, for ailment [high cholesterol levels] we have prescribed them [atorvachol]\n",
      "For patient Adam, for ailment [epilepsy] we have prescribed them [mersyndol]\n",
      "For patient Adam, for ailment [fever] we have prescribed them [mersyndol]\n",
      "For patient Kathleen, for ailment [opioid dependence] we have prescribed them [mersyndol]\n",
      "For patient Kathleen, for ailment [ear infections] we have prescribed them [mersyndol]\n",
      "For patient Lisa, for ailment [fever] we have prescribed them [mersyndol]\n",
      "For patient Lisa, for ailment [opioid dependence] we have prescribed them [mersyndol]\n",
      "For patient Anthony, for ailment [coronary heart disease] we have prescribed them [atorvachol]\n",
      "For patient Anthony, for ailment [fever] we have prescribed them [mersyndol]\n",
      "For patient Anthony, for ailment [opioid dependence] we have prescribed them [mersyndol]\n",
      "For patient Anthony, for ailment [nerves] we have prescribed them [mersyndol]\n",
      "For patient Diana, for ailment [depression] we have prescribed them [mersyndol]\n",
      "For patient Meghan, for ailment [high cholesterol levels] we have prescribed them [lipitor]\n",
      "For patient Meghan, for ailment [anxiety] we have prescribed them [mersyndol]\n",
      "For patient Meghan, for ailment [ear infections] we have prescribed them [mersyndol]\n",
      "For patient Meghan, for ailment [fever] we have prescribed them [mersyndol]\n",
      "For patient Michael, for ailment [risk of stroke] we have prescribed them [lipitor]\n",
      "For patient Michael, for ailment [risk of heart attack] we have prescribed them [atorvachol]\n",
      "For patient Michael, for ailment [moderate pain] we have prescribed them [mersyndol]\n"
     ]
    }
   ],
   "source": [
    "np.random.seed(101)\n",
    "\n",
    "ailment_names = list(ailment_medicine_map.keys())\n",
    "\n",
    "for idx, patient in enumerate(patients):\n",
    "    num_ailments = np.random.randint(4) + 1\n",
    "    \n",
    "    patient_ailments = []\n",
    "    patient_medications = []\n",
    "    \n",
    "    for ailment_idx in range(num_ailments):\n",
    "        ailment_name = ailment_names[np.random.randint(len(ailment_names))]\n",
    "        \n",
    "        # Check if patient already has that ailment, if so skip\n",
    "        if ailment_name in patient_ailments:\n",
    "            continue\n",
    "        \n",
    "        patient_ailments.append(ailment_name)\n",
    "        \n",
    "        ailment_medicine = ailment_medicine_map[ailment_name]\n",
    "        medicine_options = ailment_medicine[\"medicines\"]\n",
    "        \n",
    "        medicine = medicine_options[np.random.randint(len(medicine_options))]\n",
    "        \n",
    "        print(f\"For patient {patient[\"first_name\"]}, for ailment [{ailment_name}] we have prescribed them [{medicine}]\")\n",
    "        cur.execute(f\"INSERT INTO patient_ailments VALUES ({idx}, '{ailment_name}', '{medicine}')\")\n",
    "\n",
    "con.commit()"
   ],
   "metadata": {
    "collapsed": false,
    "ExecuteTime": {
     "end_time": "2024-12-09T23:06:35.878162Z",
     "start_time": "2024-12-09T23:06:35.867618Z"
    }
   },
   "id": "336c667809c85419",
   "execution_count": 8
  },
  {
   "cell_type": "code",
   "outputs": [],
   "source": [
    "cur.close()\n",
    "con.close()"
   ],
   "metadata": {
    "collapsed": false,
    "ExecuteTime": {
     "end_time": "2024-12-09T23:06:40.306374Z",
     "start_time": "2024-12-09T23:06:40.299776Z"
    }
   },
   "id": "e217f144cd58e252",
   "execution_count": 9
  }
 ],
 "metadata": {
  "kernelspec": {
   "display_name": "Python 3",
   "language": "python",
   "name": "python3"
  },
  "language_info": {
   "codemirror_mode": {
    "name": "ipython",
    "version": 2
   },
   "file_extension": ".py",
   "mimetype": "text/x-python",
   "name": "python",
   "nbconvert_exporter": "python",
   "pygments_lexer": "ipython2",
   "version": "2.7.6"
  }
 },
 "nbformat": 4,
 "nbformat_minor": 5
}
