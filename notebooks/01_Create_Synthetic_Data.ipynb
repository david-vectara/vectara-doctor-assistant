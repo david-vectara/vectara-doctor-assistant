{
 "cells": [
  {
   "cell_type": "markdown",
   "id": "8a600eff9843ee08",
   "metadata": {
    "collapsed": false,
    "jupyter": {
     "outputs_hidden": false
    }
   },
   "source": [
    "# Create Synthetic Data\n",
    "In order to create a good Agentic Demo, we need datasets that are related. We have chosen to\n",
    "build out a chatbot that uses PII data - so for a demo this needs to be Synthetic.\n",
    "\n",
    "\n",
    "> If you wish to make an apple pie from scratch you must first invent the universe\n",
    ">       Carl Sagan\n",
    "\n",
    "<img src=\"images/carl-apple-galaxies.png\" width=\"600\" />\n",
    "\n",
    "\n",
    "# Domain Model\n",
    "We will build a domain model as follows:\n",
    "\n",
    "1. **Patients**: This will be entirely synthetic data (random patient ID, random names, DOB etc)\n",
    "2. **Medications**: From our Consumer Medicine Information downloaded from the TGA, we will load these and use RAG to answer various questions:\n",
    "    1. What is the medicine name\n",
    "    2. What ailments is the medicine prescribed to treat\n",
    "3. **Patient-Ailments**: For each patient, we will create a link between the patient and the ailment\n",
    "        "
   ]
  },
  {
   "cell_type": "code",
   "execution_count": null,
   "id": "9c45fa9e6bce4cee",
   "metadata": {
    "ExecuteTime": {
     "end_time": "2024-12-09T23:04:34.278213Z",
     "start_time": "2024-12-09T23:04:34.031390Z"
    },
    "collapsed": false,
    "jupyter": {
     "outputs_hidden": false
    }
   },
   "outputs": [],
   "source": [
    "from faker import Faker\n",
    "from datetime import datetime\n",
    "import numpy as np\n",
    "\n",
    "class PersonGenerator:\n",
    "    \n",
    "    def __init__(self):\n",
    "        Faker.seed(101)\n",
    "        np.random.seed(101)\n",
    "        self.fake = Faker()\n",
    "    \n",
    "    def create_person(self):\n",
    "        result = {}\n",
    "        sex = np.random.choice([\"M\", \"F\"], p=[0.5,0.5])\n",
    "        \n",
    "        result[\"first_name\"] = self.fake.first_name_male() if sex==\"M\" else self.fake.first_name_female()\n",
    "        result[\"last_name\"] = self.fake.last_name()\n",
    "        result[\"sex\"] = str(sex)\n",
    "        result[\"dob\"] = datetime.strftime(self.fake.date_of_birth(), \"%Y-%M-%d\")\n",
    "        result[\"address\"] = self.fake.address()\n",
    "        \n",
    "        return result\n",
    "\n",
    "\n",
    "person_gen = PersonGenerator()\n",
    "\n",
    "patients = []\n",
    "\n",
    "for i in range(0,10):\n",
    "    person = person_gen.create_person()\n",
    "    print(f\"Created [{person}]\")\n",
    "    patients.append(person)"
   ]
  },
  {
   "cell_type": "markdown",
   "id": "3bcf2e57836ad154",
   "metadata": {
    "collapsed": false,
    "jupyter": {
     "outputs_hidden": false
    }
   },
   "source": [
    "# Load Consumer Medicine Information\n",
    "In order to build a robust set to data for our chatbot, of PII \"synthetic\" data, we'll use the TGA Consumer Medicine Information.\n",
    "\n",
    "Before we can do anything else, we create our \"Corpus\". A corpus is where you might put a set of related documents that will help you answer queries. More information about a Vectara Corpus can be found in the [documentation](https://docs.vectara.com/docs/api-reference/admin-apis/admin).\n",
    "\n",
    "**Note:** We are re-using the Authentication setup in the [Getting Started Labs](https://github.com/vectara/python-sdk/blob/main/examples/01_getting_started/00_setup_authentication.ipynb\n",
    ")"
   ]
  },
  {
   "cell_type": "code",
   "execution_count": null,
   "id": "b53c1f7b3a10683c",
   "metadata": {
    "ExecuteTime": {
     "end_time": "2024-12-09T23:04:46.330241Z",
     "start_time": "2024-12-09T23:04:39.421195Z"
    },
    "collapsed": false,
    "jupyter": {
     "outputs_hidden": false
    }
   },
   "outputs": [],
   "source": [
    "from vectara.factory import Factory\n",
    "from vectara.managers import CreateCorpusRequest \n",
    "import logging\n",
    "\n",
    "logging.basicConfig(format='%(asctime)s:%(name)-35s %(levelname)s:%(message)s', level=logging.INFO, datefmt='%H:%M:%S %z')\n",
    "logger = logging.getLogger(\"cell\")\n",
    "\n",
    "client = Factory(profile=\"lab\").build()\n",
    "\n",
    "create_corpus_request = CreateCorpusRequest().model_validate({\n",
    "    \"name\": \"Consumer Medicine Information\",\n",
    "    \"description\": \"Information provided by the Australian TGA for prescribed medicines\",\n",
    "    \"filter_attributes\": [\n",
    "        {\n",
    "            \"name\": \"name\",\n",
    "            \"type\": \"text\",\n",
    "            \"level\": \"document\",\n",
    "            \"indexed\": True\n",
    "        }\n",
    "    ]})\n",
    "corpus = client.lab_helper.create_lab_corpus(create_corpus_request)\n",
    "corpus_key = corpus.key\n",
    "\n"
   ]
  },
  {
   "cell_type": "markdown",
   "id": "b0038c93410c5a9f",
   "metadata": {
    "collapsed": false,
    "jupyter": {
     "outputs_hidden": false
    }
   },
   "source": [
    "## Ingest TGA Data to Vectara Corpus\n",
    "\n",
    "Now that we have our corpus with modelling applied, we can load this data into Vectara. Vectara automatically:\n",
    "\n",
    "1. Parses the PDFs and extracts tables\n",
    "2. Chunks the text into appropriate semantic chunks\n",
    "3. Converts the chunks into embeddings\n",
    "4. Stores the embedding in our Vector Index along with index metadata (filter attributes) for efficient querying."
   ]
  },
  {
   "cell_type": "code",
   "execution_count": null,
   "id": "aa7750b392d73a7e",
   "metadata": {
    "ExecuteTime": {
     "end_time": "2024-12-09T23:05:11.776257Z",
     "start_time": "2024-12-09T23:04:54.687609Z"
    },
    "collapsed": false,
    "jupyter": {
     "outputs_hidden": false
    }
   },
   "outputs": [],
   "source": [
    "from pathlib import Path\n",
    "\n",
    "medicine_names = []\n",
    "\n",
    "for medicine_path in Path(\"../resources/tga\").glob(\"*.pdf\"):\n",
    "    # Make sure to \"lower\" the medicine name as metadata attributes are case sensitive.\n",
    "    medicine_name = medicine_path.name[0:-4].lower()\n",
    "    medicine_names.append(medicine_name)\n",
    "    client.upload_manager.upload(corpus_key, medicine_path, metadata={\"name\": medicine_name})"
   ]
  },
  {
   "cell_type": "code",
   "execution_count": null,
   "id": "6e36ae51857e1111",
   "metadata": {
    "ExecuteTime": {
     "end_time": "2024-12-09T23:05:31.840450Z",
     "start_time": "2024-12-09T23:05:15.549315Z"
    },
    "collapsed": false,
    "jupyter": {
     "outputs_hidden": false
    }
   },
   "outputs": [],
   "source": [
    "from vectara.corpora.types import SearchCorpusParameters\n",
    "from vectara.types import GenerationParameters \n",
    "\n",
    "import json\n",
    "import re\n",
    "\n",
    "prompt_text = \"\"\"\n",
    "[\n",
    "  {\"role\": \"system\", \"content\": \"You are a doctor who is providing advice to patients at the end of their clinical visits.\"},\n",
    "  #foreach ($qResult in $vectaraQueryResults)\n",
    "     {\"role\": \"user\", \"content\": \"Give me the $vectaraIdxWord[$foreach.index] search result.\"},\n",
    "     {\"role\": \"assistant\", \"content\": \"${qResult.getText()}\" },\n",
    "  #end\n",
    "  {\"role\": \"user\", \"content\": \"Generate an answer for the query '${vectaraQuery}' based on the above results in JSON an attribute 'ailments' that has a list of ailment names.\"}\n",
    "]\n",
    "    \"\"\"\n",
    "\n",
    "generation = GenerationParameters.parse_obj({\n",
    "    \"generation_preset_name\": \"vectara-summary-ext-v1.3.0\",\n",
    "    \"max_used_search_results\": 5,\n",
    "    \"max_response_characters\": 300,\n",
    "    \"response_language\": \"auto\",\n",
    "    \"prompt_text\": prompt_text\n",
    "})\n",
    "\n",
    "search_corpus = SearchCorpusParameters.parse_obj({\n",
    "    \"lexical_interpolation\": 0.025,\n",
    "    \"semantics\": \"default\",\n",
    "    \"offset\": 0,\n",
    "    \"limit\": 10,\n",
    "    \"reranker\": {\n",
    "        \"type\": \"customer_reranker\",\n",
    "        \"reranker_id\": \"rnk_272725719\"\n",
    "    },\n",
    "    \"context_configuration\": {\n",
    "        \"characters_before\": 30,\n",
    "        \"characters_after\": 30,\n",
    "        \"start_tag\": \"<b>\",\n",
    "        \"end_tag\": \"</b>\"\n",
    "    },\n",
    "})\n",
    "\n",
    "medicines = []\n",
    "ailment_medicine_map = {}\n",
    "\n",
    "for medicine_name in medicine_names:\n",
    "    query = f\"List the ailments is the medicine {medicine_name} used to treat?\"\n",
    "    query_response = client.corpora.query(corpus_key, query=query, search=search_corpus, generation=generation)\n",
    "    #print(f\"For {medicine_name}, we found the following ailments:\\n{query_response.summary}\")\n",
    "    \n",
    "    ailments = json.loads(query_response.summary)[\"ailments\"]\n",
    "    medicine = {\"name\": medicine_name, \"ailments\": ailments}\n",
    "    medicines.append(medicine)\n",
    "    \n",
    "    # Ensure we have a link to medicines which can treat different ailments\n",
    "    for ailment in ailments:\n",
    "        \n",
    "        # Remove any acronyms in brackets, make lower case\n",
    "        ailment = re.sub(r\"\\([^\\)]+\\)\",\"\", ailment).lower()\n",
    "        ailment = re.sub(r\" +\",\" \", ailment).strip()\n",
    "        \n",
    "        if ailment in ailment_medicine_map:\n",
    "                ailment_medicine = ailment_medicine_map[ailment]\n",
    "        else:\n",
    "                ailment_medicine = {\"name\": ailment, \"medicines\": []}\n",
    "                ailment_medicine_map[ailment] = ailment_medicine \n",
    "        ailment_medicine[\"medicines\"].append(medicine_name)\n",
    "        \n",
    "\n",
    "for ailment in ailment_medicine_map.keys():\n",
    "    ailment_medicine = ailment_medicine_map[ailment]\n",
    "    \n",
    "    available_medicines = ailment_medicine[\"medicines\"]\n",
    "    print(f\"For ailment [{ailment}], you can take [{available_medicines}]\")\n",
    "    \n",
    "    "
   ]
  },
  {
   "cell_type": "code",
   "execution_count": null,
   "id": "c82b54d53540febb",
   "metadata": {
    "ExecuteTime": {
     "end_time": "2024-12-09T23:06:25.834754Z",
     "start_time": "2024-12-09T23:06:25.820765Z"
    },
    "collapsed": false,
    "jupyter": {
     "outputs_hidden": false
    }
   },
   "outputs": [],
   "source": [
    "from pathlib import Path\n",
    "import sqlite3\n",
    "\n",
    "output_dir = Path(\"../output\")\n",
    "output_dir.mkdir(exist_ok=True)\n",
    "\n",
    "db_file = output_dir / \"patient.db\"\n",
    "if db_file.exists():\n",
    "    db_file.unlink()\n",
    "con = sqlite3.connect(db_file)\n",
    "\n",
    "cur = con.cursor()\n",
    "cur.execute(\"DROP TABLE IF EXISTS patient\")\n",
    "con.commit()\n",
    "cur.execute(\"CREATE TABLE patient(id, first_name, last_name, sex, dob, address)\")\n",
    "con.commit()\n",
    "cur.execute(\"CREATE TABLE patient_ailments(patient_id, ailment, medicine)\")\n",
    "con.commit()\n"
   ]
  },
  {
   "cell_type": "code",
   "execution_count": null,
   "id": "f933f1abe3399110",
   "metadata": {
    "ExecuteTime": {
     "end_time": "2024-12-09T23:06:29.314207Z",
     "start_time": "2024-12-09T23:06:29.307561Z"
    },
    "collapsed": false,
    "jupyter": {
     "outputs_hidden": false
    }
   },
   "outputs": [],
   "source": [
    "for idx, patient in enumerate(patients):\n",
    "    cur.execute(f\"INSERT INTO patient VALUES ({idx}, '{patient[\"first_name\"]}', '{patient[\"last_name\"]}', '{patient[\"sex\"]}', '{patient[\"dob\"]}', '{patient[\"address\"]}')\")\n",
    "\n"
   ]
  },
  {
   "cell_type": "markdown",
   "id": "67666071c13da13a",
   "metadata": {
    "collapsed": false,
    "jupyter": {
     "outputs_hidden": false
    }
   },
   "source": [
    "# Populate Ailments with Prescription \n",
    "Now for each patient, we give them an ailment and prescription."
   ]
  },
  {
   "cell_type": "code",
   "execution_count": null,
   "id": "336c667809c85419",
   "metadata": {
    "ExecuteTime": {
     "end_time": "2024-12-09T23:06:35.878162Z",
     "start_time": "2024-12-09T23:06:35.867618Z"
    },
    "collapsed": false,
    "jupyter": {
     "outputs_hidden": false
    }
   },
   "outputs": [],
   "source": [
    "np.random.seed(101)\n",
    "\n",
    "ailment_names = list(ailment_medicine_map.keys())\n",
    "\n",
    "for idx, patient in enumerate(patients):\n",
    "    num_ailments = np.random.randint(4) + 1\n",
    "    \n",
    "    patient_ailments = []\n",
    "    patient_medications = []\n",
    "    \n",
    "    for ailment_idx in range(num_ailments):\n",
    "        ailment_name = ailment_names[np.random.randint(len(ailment_names))]\n",
    "        \n",
    "        # Check if patient already has that ailment, if so skip\n",
    "        if ailment_name in patient_ailments:\n",
    "            continue\n",
    "        \n",
    "        patient_ailments.append(ailment_name)\n",
    "        \n",
    "        ailment_medicine = ailment_medicine_map[ailment_name]\n",
    "        medicine_options = ailment_medicine[\"medicines\"]\n",
    "        \n",
    "        medicine = medicine_options[np.random.randint(len(medicine_options))]\n",
    "        \n",
    "        print(f\"For patient {patient[\"first_name\"]}, for ailment [{ailment_name}] we have prescribed them [{medicine}]\")\n",
    "        cur.execute(f\"INSERT INTO patient_ailments VALUES ({idx}, '{ailment_name}', '{medicine}')\")\n",
    "\n",
    "con.commit()"
   ]
  },
  {
   "cell_type": "code",
   "execution_count": null,
   "id": "e217f144cd58e252",
   "metadata": {
    "ExecuteTime": {
     "end_time": "2024-12-09T23:06:40.306374Z",
     "start_time": "2024-12-09T23:06:40.299776Z"
    },
    "collapsed": false,
    "jupyter": {
     "outputs_hidden": false
    }
   },
   "outputs": [],
   "source": [
    "cur.close()\n",
    "con.close()"
   ]
  }
 ],
 "metadata": {
  "kernelspec": {
   "display_name": "Python 3 (ipykernel)",
   "language": "python",
   "name": "python3"
  },
  "language_info": {
   "codemirror_mode": {
    "name": "ipython",
    "version": 3
   },
   "file_extension": ".py",
   "mimetype": "text/x-python",
   "name": "python",
   "nbconvert_exporter": "python",
   "pygments_lexer": "ipython3",
   "version": "3.12.1"
  }
 },
 "nbformat": 4,
 "nbformat_minor": 5
}
