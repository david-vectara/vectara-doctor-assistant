{
 "cells": [
  {
   "cell_type": "markdown",
   "id": "7cc67dbc-5a57-4f1f-9f6a-a3f0e8a6ea13",
   "metadata": {},
   "source": [
    "# Delete Corpus\n",
    "After running the labs, we can delete the corpus using this notebook."
   ]
  },
  {
   "cell_type": "code",
   "execution_count": null,
   "id": "be1b9c95-cc16-498c-beb0-c044b7a5cb07",
   "metadata": {},
   "outputs": [],
   "source": [
    "%load_ext autoreload\n",
    "%autoreload 2\n",
    "import os\n",
    "import sys\n",
    "module_path = os.path.abspath(os.path.join('../src')) # or the path to your source code\n",
    "sys.path.insert(0, module_path)"
   ]
  },
  {
   "cell_type": "code",
   "execution_count": null,
   "id": "abf59d16-3eae-4889-a73f-76625cd48282",
   "metadata": {},
   "outputs": [],
   "source": [
    "from meetup_aicamp_agentic import tooling\n",
    "import logging\n",
    "\n",
    "logging.basicConfig(format='%(asctime)s:%(name)-35s %(levelname)s:%(message)s', level=logging.INFO, datefmt='%H:%M:%S %z')\n",
    "tooling.initialize()\n",
    "tooling.client.corpora.delete(tooling.CORPUS_KEY)"
   ]
  }
 ],
 "metadata": {
  "kernelspec": {
   "display_name": "Python 3 (ipykernel)",
   "language": "python",
   "name": "python3"
  },
  "language_info": {
   "codemirror_mode": {
    "name": "ipython",
    "version": 3
   },
   "file_extension": ".py",
   "mimetype": "text/x-python",
   "name": "python",
   "nbconvert_exporter": "python",
   "pygments_lexer": "ipython3",
   "version": "3.12.1"
  }
 },
 "nbformat": 4,
 "nbformat_minor": 5
}
