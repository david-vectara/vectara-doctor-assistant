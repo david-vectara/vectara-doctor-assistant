{
 "cells": [
  {
   "cell_type": "markdown",
   "id": "4495e49b-5779-4e0c-ade6-e12cd2958fb8",
   "metadata": {},
   "source": [
    "## Load our Source Folder\n",
    "It's surprisingly hard to use a source folder in Jupyter lab."
   ]
  },
  {
   "cell_type": "code",
   "execution_count": null,
   "id": "d4b70d49-78bf-416a-afd3-af3097fd9ddd",
   "metadata": {},
   "outputs": [],
   "source": [
    "%load_ext autoreload\n",
    "%autoreload 2\n",
    "import os\n",
    "import sys\n",
    "module_path = os.path.abspath(os.path.join('../src')) # or the path to your source code\n",
    "sys.path.insert(0, module_path)"
   ]
  },
  {
   "cell_type": "markdown",
   "id": "30f450e1-2b6f-4864-9c4a-84b7d36f4e81",
   "metadata": {},
   "source": [
    "# Initialize our Agent\n",
    "We now initialize our agent."
   ]
  },
  {
   "cell_type": "code",
   "execution_count": null,
   "id": "initial_id",
   "metadata": {
    "ExecuteTime": {
     "end_time": "2024-12-09T23:43:14.058754Z",
     "start_time": "2024-12-09T23:43:07.776419Z"
    }
   },
   "outputs": [],
   "source": [
    "from meetup_aicamp_agentic.tooling import build_agent\n",
    "\n",
    "agent = build_agent()"
   ]
  },
  {
   "cell_type": "code",
   "execution_count": null,
   "id": "701f33a769c24752",
   "metadata": {
    "ExecuteTime": {
     "end_time": "2024-12-09T23:43:17.962668Z",
     "start_time": "2024-12-09T23:43:14.801156Z"
    },
    "collapsed": false,
    "jupyter": {
     "outputs_hidden": false
    }
   },
   "outputs": [],
   "source": [
    "print(agent.chat(\"What medications is Ms Shannon using?\").response)"
   ]
  },
  {
   "cell_type": "code",
   "execution_count": null,
   "id": "bc8aa66841617178",
   "metadata": {
    "ExecuteTime": {
     "end_time": "2024-12-09T23:43:30.391661Z",
     "start_time": "2024-12-09T23:43:29.066763Z"
    },
    "collapsed": false,
    "jupyter": {
     "outputs_hidden": false
    }
   },
   "outputs": [],
   "source": [
    "print(agent.chat(\"This is a last name, I think\").response)\n",
    " "
   ]
  },
  {
   "cell_type": "code",
   "execution_count": null,
   "id": "34ea29247c758724",
   "metadata": {
    "ExecuteTime": {
     "end_time": "2024-12-09T23:43:35.751046Z",
     "start_time": "2024-12-09T23:43:35.066543Z"
    },
    "collapsed": false,
    "jupyter": {
     "outputs_hidden": false
    }
   },
   "outputs": [],
   "source": [
    "print(agent.chat(\"What is their DOB?\").response)"
   ]
  },
  {
   "cell_type": "code",
   "execution_count": null,
   "id": "3660571074fbad0f",
   "metadata": {
    "ExecuteTime": {
     "end_time": "2024-12-09T23:43:52.686648Z",
     "start_time": "2024-12-09T23:43:39.893039Z"
    },
    "collapsed": false,
    "jupyter": {
     "outputs_hidden": false
    }
   },
   "outputs": [],
   "source": [
    "print(agent.chat(\"They are complaining of dizzyness, is this a side effect of any of their current medications?\").response)\n"
   ]
  },
  {
   "cell_type": "code",
   "execution_count": null,
   "id": "509405b82837b269",
   "metadata": {
    "ExecuteTime": {
     "end_time": "2024-12-09T23:44:09.231038Z",
     "start_time": "2024-12-09T23:44:05.624920Z"
    },
    "collapsed": false,
    "jupyter": {
     "outputs_hidden": false
    }
   },
   "outputs": [],
   "source": [
    "print(agent.chat(\"Please provide the full citation details, including document ID\").response)"
   ]
  },
  {
   "cell_type": "code",
   "execution_count": null,
   "id": "2574ab2a60a528a7",
   "metadata": {
    "ExecuteTime": {
     "end_time": "2024-12-09T23:44:35.627879Z",
     "start_time": "2024-12-09T23:44:12.013969Z"
    },
    "collapsed": false,
    "jupyter": {
     "outputs_hidden": false
    }
   },
   "outputs": [],
   "source": [
    "print(agent.chat(\"Do we have any other patients using Lipitor and why?\").response)"
   ]
  },
  {
   "cell_type": "code",
   "execution_count": null,
   "id": "f9b59e2f934334b",
   "metadata": {
    "ExecuteTime": {
     "end_time": "2024-12-09T23:45:21.070197Z",
     "start_time": "2024-12-09T23:44:35.628989Z"
    },
    "collapsed": false,
    "jupyter": {
     "outputs_hidden": false
    }
   },
   "outputs": [],
   "source": [
    "print(agent.chat(\"What is the typical dosages for Lipitor?\").response)"
   ]
  }
 ],
 "metadata": {
  "kernelspec": {
   "display_name": "Python 3 (ipykernel)",
   "language": "python",
   "name": "python3"
  },
  "language_info": {
   "codemirror_mode": {
    "name": "ipython",
    "version": 3
   },
   "file_extension": ".py",
   "mimetype": "text/x-python",
   "name": "python",
   "nbconvert_exporter": "python",
   "pygments_lexer": "ipython3",
   "version": "3.12.1"
  }
 },
 "nbformat": 4,
 "nbformat_minor": 5
}
